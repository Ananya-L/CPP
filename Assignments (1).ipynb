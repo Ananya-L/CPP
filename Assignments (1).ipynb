{
 "cells": [
  {
   "cell_type": "markdown",
   "metadata": {},
   "source": [
    "# **Basic Python**"
   ]
  },
  {
   "cell_type": "markdown",
   "metadata": {},
   "source": [
    "## 1.a \n",
    "Give a function F that takes a single argument n. This function should print a sequence of n strings as described in the examples below: <br>\n",
    "Ex: **n = 3**\n",
    "\n",
    "--A--<br>\n",
    "-BAB-<br>\n",
    "CBABC<br>\n",
    "\n",
    "**n = 4**\n",
    "\n",
    "---A---<br>\n",
    "--BAB--<br>\n",
    "-CBABC-<br>\n",
    "DCBABCD"
   ]
  },
  {
   "cell_type": "code",
   "execution_count": 1,
   "metadata": {},
   "outputs": [
    {
     "name": "stdout",
     "output_type": "stream",
     "text": [
      "---------A---------\n",
      "--------BAB--------\n",
      "-------CBABC-------\n",
      "------DCBABCD------\n",
      "-----EDCBABCDE-----\n",
      "----FEDCBABCDEF----\n",
      "---GFEDCBABCDEFG---\n",
      "--HGFEDCBABCDEFGH--\n",
      "-IHGFEDCBABCDEFGHI-\n",
      "JIHGFEDCBABCDEFGHIJ\n",
      "-----A-----\n",
      "----BAB----\n",
      "---CBABC---\n",
      "--DCBABCD--\n",
      "-EDCBABCDE-\n",
      "FEDCBABCDEF\n"
     ]
    }
   ],
   "source": [
    "def F(n):\n",
    "    def f(i,k):\n",
    "        j = k - i\n",
    "        s1 = j*\"-\"\n",
    "        s = \"\"\n",
    "        for m in range(i):\n",
    "            if m == 0:\n",
    "                s = \"A\"\n",
    "            else:\n",
    "                s = chr(ord(\"A\") + m) + s + chr(ord(\"A\") + m)\n",
    "        s = s1 + s + s1\n",
    "        return s\n",
    "    for i in range(1, n+1):\n",
    "        print(f(i,n))\n",
    "\n",
    "\n",
    "\n",
    "# Tests\n",
    "F(10)\n",
    "F(6)"
   ]
  },
  {
   "cell_type": "markdown",
   "metadata": {},
   "source": [
    "## 1.b\n",
    "Make a function F that takes only one argument, a dictionary(dict) d.\n",
    "The keys of d are integers and the values of d are a tuple of type (x (int), y (int)).\n",
    "You must print out the dict in the format \"-key-, -x-, -y-\" with each entry in a new line. Print it for each of the three sorted orders, by key values ascending, by x values descending, by y values ascending."
   ]
  },
  {
   "cell_type": "code",
   "execution_count": 28,
   "metadata": {},
   "outputs": [
    {
     "name": "stdout",
     "output_type": "stream",
     "text": [
      "Key values ascending\n",
      "-1-,-1-,-2-\n",
      "-2-,--1-,-4-\n",
      "-4-,-2-,-3-\n",
      "-5-,--4-,-3-\n",
      "x values descending\n",
      "-4-,-2-,-3-\n",
      "-1-,-1-,-2-\n",
      "-2-,--1-,-4-\n",
      "-5-,--4-,-3-\n",
      "y values ascending\n",
      "-1-,-1-,-2-\n",
      "-5-,--4-,-3-\n",
      "-4-,-2-,-3-\n",
      "-2-,--1-,-4-\n",
      "Key values ascending\n",
      "--8-,-4-,-2-\n",
      "-5-,-9-,--10-\n",
      "-6-,--3-,-4-\n",
      "-7-,-2-,-1-\n",
      "x values descending\n",
      "-5-,-9-,--10-\n",
      "--8-,-4-,-2-\n",
      "-7-,-2-,-1-\n",
      "-6-,--3-,-4-\n",
      "y values ascending\n",
      "-5-,-9-,--10-\n",
      "-7-,-2-,-1-\n",
      "--8-,-4-,-2-\n",
      "-6-,--3-,-4-\n"
     ]
    }
   ],
   "source": [
    "def F(d : dict):\n",
    "    print(\"Key values ascending\")\n",
    "    for key in sorted(d.keys()):\n",
    "        x, y = d[key]\n",
    "        print(f\"-{key}-,-{x}-,-{y}-\")\n",
    "    print(\"x values descending\")\n",
    "    for key, (x, y) in sorted(d.items(), key = lambda item : item[1][0], reverse = True):\n",
    "        print(f\"-{key}-,-{x}-,-{y}-\")\n",
    "    print(\"y values ascending\")\n",
    "    for key, (x, y) in sorted(d.items(), key = lambda item : item[1][1]):\n",
    "        print(f\"-{key}-,-{x}-,-{y}-\")\n",
    "\n",
    "# Tests\n",
    "F({1 : (1, 2), 2 : (-1, 4), 5 : (-4, 3), 4 : (2, 3)})\n",
    "F({-8 : (4, 2), 6 : (-3, 4), 7 : (2, 1), 5 : (9, -10)})"
   ]
  },
  {
   "cell_type": "markdown",
   "metadata": {},
   "source": [
    "## 2 Working with Student Records\n",
    "\n",
    "Use the data in **student_records.csv** to complete the given tasks. Do not include any external libraries. Use a Python dictionary if required.\n",
    "\n",
    "### Reference\n",
    "- [Python Dictionaries](https://www.w3schools.com/python/python_dictionaries.asp)\n"
   ]
  },
  {
   "cell_type": "markdown",
   "metadata": {},
   "source": [
    "#### 2.a: open the student_records.csv file and print out the first 10 rows"
   ]
  },
  {
   "cell_type": "code",
   "execution_count": 10,
   "metadata": {},
   "outputs": [
    {
     "name": "stdout",
     "output_type": "stream",
     "text": [
      "588946,MA,3,EC250,hasmed_elective,AB\n",
      "145372,EP,4,EP407,hasmed_elective,CC\n",
      "834515,MA,8,EP885,hasmed_elective,BB\n",
      "344265,CSE,6,CSE699,honours,AB\n",
      "358405,MA,3,EE460,minor,AP\n",
      "781075,CE,8,CE540,honours,CC\n",
      "180828,CSE,6,CE880,minor,AB\n",
      "981238,MM,4,CSE226,minor,AB\n",
      "836881,MM,8,MM530,core,AA\n",
      "310604,EE,8,EE202,core,AB\n"
     ]
    }
   ],
   "source": [
    "with open(\"student_records.csv\", \"r\") as file:\n",
    "    lines = file.readlines()\n",
    "header = lines[0]  \n",
    "for i, line in enumerate(lines[1:11], start=1): \n",
    "    print(f\"{line.strip()}\")\n"
   ]
  },
  {
   "cell_type": "markdown",
   "metadata": {},
   "source": [
    "#### 2.b: Print out the total credits and calculte CPI of each student. \n",
    "CPI is the weighted average of core courses, and electives (weights being the letter grades converted to number AP,AA=10, AB=9, BB=9, BC=7, CC=6)"
   ]
  },
  {
   "cell_type": "code",
   "execution_count": 34,
   "metadata": {},
   "outputs": [
    {
     "name": "stdout",
     "output_type": "stream",
     "text": [
      "Roll Number | Total Credits | CPI\n",
      "588946 | 199 | 8.69\n",
      "145372 | 173 | 7.75\n",
      "834515 | 199 | 8.22\n",
      "344265 | 153 | 8.70\n",
      "358405 | 206 | 8.59\n",
      "781075 | 246 | 8.17\n",
      "180828 | 177 | 8.10\n",
      "981238 | 168 | 8.24\n",
      "836881 | 246 | 8.39\n",
      "310604 | 198 | 8.33\n",
      "847809 | 261 | 8.21\n",
      "773982 | 264 | 8.07\n",
      "500658 | 208 | 8.17\n",
      "810863 | 192 | 8.15\n",
      "124663 | 229 | 8.13\n",
      "364146 | 225 | 8.40\n",
      "871746 | 216 | 8.21\n",
      "270007 | 241 | 8.03\n",
      "597353 | 200 | 8.12\n",
      "986057 | 199 | 8.07\n",
      "718510 | 184 | 8.43\n",
      "836431 | 160 | 7.90\n",
      "379479 | 260 | 8.25\n",
      "582912 | 221 | 8.66\n",
      "788020 | 193 | 8.02\n",
      "613401 | 209 | 8.44\n",
      "144528 | 228 | 8.16\n",
      "485484 | 216 | 8.36\n",
      "680096 | 153 | 8.05\n",
      "199713 | 172 | 8.29\n",
      "851029 | 161 | 8.32\n",
      "845623 | 237 | 8.38\n",
      "150503 | 173 | 8.29\n",
      "214270 | 229 | 7.88\n",
      "517837 | 205 | 8.58\n",
      "482623 | 254 | 8.40\n",
      "721490 | 235 | 8.34\n",
      "955757 | 251 | 8.29\n",
      "589528 | 153 | 8.73\n",
      "143856 | 201 | 8.49\n",
      "571782 | 217 | 8.42\n",
      "973158 | 193 | 8.51\n",
      "703403 | 254 | 8.34\n",
      "960395 | 262 | 8.63\n",
      "521087 | 223 | 7.91\n",
      "461971 | 252 | 8.29\n",
      "879634 | 203 | 8.74\n",
      "716985 | 185 | 8.18\n",
      "194063 | 157 | 8.14\n",
      "265922 | 236 | 8.35\n",
      "283796 | 211 | 8.82\n",
      "203200 | 157 | 8.79\n",
      "301135 | 206 | 8.33\n",
      "327122 | 246 | 8.16\n",
      "381526 | 160 | 8.43\n",
      "534763 | 158 | 7.93\n",
      "391848 | 217 | 8.44\n",
      "329535 | 157 | 8.23\n",
      "971123 | 210 | 7.96\n",
      "207443 | 161 | 8.30\n",
      "488661 | 248 | 8.60\n",
      "782129 | 184 | 8.54\n",
      "928288 | 191 | 8.51\n",
      "581858 | 216 | 8.05\n",
      "733782 | 169 | 8.42\n",
      "282482 | 228 | 8.29\n",
      "572815 | 212 | 8.32\n",
      "608952 | 251 | 8.33\n",
      "628849 | 183 | 8.72\n",
      "630568 | 217 | 8.24\n",
      "388969 | 229 | 8.31\n",
      "159438 | 176 | 8.38\n",
      "478606 | 244 | 8.32\n",
      "995208 | 157 | 7.78\n",
      "841365 | 177 | 7.99\n",
      "870642 | 161 | 8.02\n",
      "970791 | 220 | 8.12\n",
      "143142 | 234 | 8.78\n",
      "998293 | 207 | 8.70\n",
      "907454 | 245 | 8.27\n",
      "681499 | 234 | 8.26\n",
      "888886 | 207 | 8.27\n",
      "608522 | 159 | 8.61\n",
      "362471 | 214 | 7.93\n",
      "465496 | 168 | 8.30\n",
      "208100 | 182 | 8.59\n",
      "138296 | 200 | 8.28\n",
      "775967 | 197 | 8.43\n",
      "692318 | 216 | 8.17\n",
      "461584 | 234 | 8.24\n",
      "626000 | 210 | 8.43\n",
      "458200 | 190 | 8.39\n",
      "581065 | 196 | 8.22\n",
      "787967 | 192 | 8.41\n",
      "381227 | 179 | 8.22\n",
      "750259 | 209 | 8.35\n",
      "881983 | 169 | 8.33\n",
      "294697 | 269 | 8.57\n",
      "816041 | 158 | 8.46\n",
      "993835 | 175 | 8.43\n"
     ]
    }
   ],
   "source": [
    "grade_weights = {\n",
    "    \"AP\": 10, \"AA\": 10,\n",
    "    \"AB\": 9, \n",
    "    \"BB\": 8, \n",
    "    \"BC\": 7, \n",
    "    \"CC\": 6\n",
    "}\n",
    "\n",
    "# Dictionary to store student data\n",
    "students = {}\n",
    "\n",
    "# Read the file\n",
    "with open(\"student_records.csv\", \"r\") as file:\n",
    "    # Read lines and skip the header\n",
    "    lines = file.readlines()\n",
    "    header = lines[0].strip().split(\",\")  # Extract header for reference\n",
    "    for line in lines[1:]:\n",
    "        roll_number,department, credit,course_name,course_type,grade = line.strip().split(\",\")  \n",
    "        credits = int(credit)  # Convert credits to integer\n",
    "        \n",
    "        # Initialize the student in the dictionary if not already there\n",
    "        if roll_number not in students:\n",
    "            students[roll_number] = {\"total_credits\": 0, \"weighted_sum\": 0,\"department\": department,\"core\":0,\"department_elective\":0,\"flexible_elective\":0,\"hasmed_elective\":0,\"minor\":0,\"honours\":0}\n",
    "        students[roll_number][\"department\"] = department\n",
    "        # Update total credits and weighted sum\n",
    "        if grade in grade_weights:  # Ensure grade is valid\n",
    "            weight = grade_weights[grade]\n",
    "            students[roll_number][\"total_credits\"] += credits\n",
    "            students[roll_number][\"weighted_sum\"] += weight * credits\n",
    "            students[roll_number][\"department\"] = department\n",
    "            if course_type == \"core\":\n",
    "                students[roll_number][\"core\"] += credits\n",
    "            elif course_type == \"department_elective\":\n",
    "                students[roll_number][\"department_elective\"] += credits\n",
    "            elif course_type == \"hasmed_elective\":\n",
    "                students[roll_number][\"hasmed_elective\"] += credits\n",
    "            elif course_type == \"flexible_elective\":\n",
    "                students[roll_number][\"flexible_elective\"] += credits\n",
    "            elif course_type == \"minor\":\n",
    "                students[roll_number][\"minor\"] += credits\n",
    "            elif course_type == \"honours\":\n",
    "                students[roll_number][\"honours\"] += credits\n",
    "\n",
    "# Calculate and print total credits and CPI for each student\n",
    "print(\"Roll Number | Total Credits | CPI\")\n",
    "for name, data in students.items():\n",
    "    total_credits = data[\"total_credits\"]\n",
    "    cpi = data[\"weighted_sum\"] / total_credits if total_credits > 0 else 0\n",
    "    print(f\"{name} | {total_credits} | {cpi:.2f}\")\n"
   ]
  },
  {
   "cell_type": "markdown",
   "metadata": {},
   "source": [
    "#### 2.c: Print out the names of all students who meet the graduation requirements \n",
    "Atleast 20 credist of core course, 15 credits of department elective, 10 credits of flexible elective and 5 credits of hasmed electives"
   ]
  },
  {
   "cell_type": "code",
   "execution_count": 41,
   "metadata": {},
   "outputs": [
    {
     "name": "stdout",
     "output_type": "stream",
     "text": [
      "588946\n",
      "834515\n",
      "781075\n",
      "180828\n",
      "981238\n",
      "836881\n",
      "310604\n",
      "773982\n",
      "500658\n",
      "810863\n",
      "124663\n",
      "871746\n",
      "986057\n",
      "379479\n",
      "144528\n",
      "485484\n",
      "845623\n",
      "150503\n",
      "214270\n",
      "517837\n",
      "482623\n",
      "721490\n",
      "955757\n",
      "143856\n",
      "571782\n",
      "973158\n",
      "703403\n",
      "960395\n",
      "521087\n",
      "461971\n",
      "879634\n",
      "716985\n",
      "265922\n",
      "283796\n",
      "203200\n",
      "327122\n",
      "534763\n",
      "391848\n",
      "971123\n",
      "207443\n",
      "488661\n",
      "782129\n",
      "928288\n",
      "581858\n",
      "282482\n",
      "572815\n",
      "608952\n",
      "628849\n",
      "630568\n",
      "388969\n",
      "159438\n",
      "970791\n",
      "143142\n",
      "998293\n",
      "681499\n",
      "888886\n",
      "608522\n",
      "362471\n",
      "692318\n",
      "626000\n",
      "581065\n",
      "787967\n",
      "381227\n",
      "750259\n",
      "881983\n",
      "294697\n"
     ]
    }
   ],
   "source": [
    "for roll_number, student_data in students.items():\n",
    "    if (student_data[\"core\"] >= 20 and\n",
    "        student_data[\"department_elective\"] >= 15 and\n",
    "        student_data[\"flexible_elective\"] >= 10 and\n",
    "        student_data[\"hasmed_elective\"] >= 5):\n",
    "        print(roll_number)"
   ]
  },
  {
   "cell_type": "markdown",
   "metadata": {},
   "source": [
    "#### 2.d: Print out the names of all students who completed a minor \n",
    "Atleast 10 credits with minor tag in a specific department"
   ]
  },
  {
   "cell_type": "code",
   "execution_count": 43,
   "metadata": {},
   "outputs": [
    {
     "name": "stdout",
     "output_type": "stream",
     "text": [
      "588946\n",
      "145372\n",
      "834515\n",
      "344265\n",
      "358405\n",
      "781075\n",
      "180828\n",
      "981238\n",
      "836881\n",
      "847809\n",
      "773982\n",
      "500658\n",
      "810863\n",
      "124663\n",
      "364146\n",
      "871746\n",
      "270007\n",
      "597353\n",
      "986057\n",
      "718510\n",
      "836431\n",
      "379479\n",
      "582912\n",
      "788020\n",
      "613401\n",
      "144528\n",
      "485484\n",
      "680096\n",
      "199713\n",
      "851029\n",
      "845623\n",
      "150503\n",
      "214270\n",
      "517837\n",
      "482623\n",
      "721490\n",
      "955757\n",
      "143856\n",
      "571782\n",
      "973158\n",
      "703403\n",
      "960395\n",
      "521087\n",
      "461971\n",
      "879634\n",
      "716985\n",
      "194063\n",
      "265922\n",
      "283796\n",
      "203200\n",
      "301135\n",
      "327122\n",
      "381526\n",
      "534763\n",
      "391848\n",
      "329535\n",
      "971123\n",
      "207443\n",
      "488661\n",
      "782129\n",
      "581858\n",
      "733782\n",
      "282482\n",
      "572815\n",
      "608952\n",
      "628849\n",
      "630568\n",
      "388969\n",
      "159438\n",
      "478606\n",
      "995208\n",
      "841365\n",
      "970791\n",
      "143142\n",
      "998293\n",
      "907454\n",
      "681499\n",
      "888886\n",
      "608522\n",
      "362471\n",
      "465496\n",
      "208100\n",
      "138296\n",
      "775967\n",
      "692318\n",
      "461584\n",
      "626000\n",
      "458200\n",
      "581065\n",
      "787967\n",
      "381227\n",
      "750259\n",
      "881983\n",
      "294697\n",
      "816041\n",
      "993835\n"
     ]
    }
   ],
   "source": [
    "for roll_number, student_data in students.items():\n",
    "    if (student_data[\"minor\"] >= 10):\n",
    "        print(roll_number)"
   ]
  },
  {
   "cell_type": "markdown",
   "metadata": {},
   "source": [
    "#### 2.e: Print out the names of all students who completed a honours\n",
    "Atleast 10 credits with honours tag and 20 core credits"
   ]
  },
  {
   "cell_type": "code",
   "execution_count": 45,
   "metadata": {},
   "outputs": [
    {
     "name": "stdout",
     "output_type": "stream",
     "text": [
      "588946\n",
      "145372\n",
      "834515\n",
      "781075\n",
      "836881\n",
      "310604\n",
      "773982\n",
      "500658\n",
      "810863\n",
      "124663\n",
      "364146\n",
      "871746\n",
      "986057\n",
      "718510\n",
      "379479\n",
      "582912\n",
      "788020\n",
      "613401\n",
      "144528\n",
      "485484\n",
      "199713\n",
      "845623\n",
      "150503\n",
      "214270\n",
      "517837\n",
      "482623\n",
      "721490\n",
      "955757\n",
      "589528\n",
      "143856\n",
      "571782\n",
      "973158\n",
      "703403\n",
      "960395\n",
      "521087\n",
      "461971\n",
      "879634\n",
      "716985\n",
      "265922\n",
      "283796\n",
      "203200\n",
      "327122\n",
      "534763\n",
      "391848\n",
      "971123\n",
      "207443\n",
      "488661\n",
      "782129\n",
      "928288\n",
      "581858\n",
      "282482\n",
      "572815\n",
      "608952\n",
      "628849\n",
      "630568\n",
      "388969\n",
      "159438\n",
      "870642\n",
      "970791\n",
      "143142\n",
      "998293\n",
      "681499\n",
      "888886\n",
      "608522\n",
      "362471\n",
      "465496\n",
      "208100\n",
      "692318\n",
      "626000\n",
      "458200\n",
      "581065\n",
      "787967\n",
      "750259\n",
      "881983\n",
      "294697\n"
     ]
    }
   ],
   "source": [
    "for roll_number, student_data in students.items():\n",
    "    if (student_data[\"honours\"] >= 10 and student_data[\"core\"] >= 20):\n",
    "        print(roll_number)"
   ]
  },
  {
   "cell_type": "markdown",
   "metadata": {},
   "source": [
    "# **SciPy** "
   ]
  },
  {
   "cell_type": "markdown",
   "metadata": {},
   "source": [
    "## Part A\n",
    "Minimize the function $f(x, y) = 2(x - y - 3)^2 + 4(x + 2y + 1)^4$.<br>\n",
    "With the constraints : $ x - y \\ge -3, (x + 2)^2 + (y + 1)^2 \\le 5$ <br>\n",
    "Using scipy.optimize.minimize with constraints. (Hint: Look at the examples in the official documentation)"
   ]
  },
  {
   "cell_type": "code",
   "execution_count": 51,
   "metadata": {},
   "outputs": [
    {
     "name": "stdout",
     "output_type": "stream",
     "text": [
      "Optimal Solution: [ 0.23492503 -0.92851485]\n",
      "Minimum Value: 7.345026166648974\n"
     ]
    }
   ],
   "source": [
    "from scipy.optimize import minimize\n",
    "\n",
    "def objective(vars):\n",
    "    x, y = vars\n",
    "    return 2 * (x - y - 3)**2 + 4 * (x + 2 * y + 1)**4\n",
    "    \n",
    "constraints = [\n",
    "    {\"type\": \"ineq\", \"fun\": lambda vars: -vars[0] + vars[1] + 3},  # x - y >= -3\n",
    "    {\"type\": \"ineq\", \"fun\": lambda vars: 5 - ((vars[0] + 2)**2 + (vars[1] + 1)**2)}  # Circle constraint\n",
    "]\n",
    "\n",
    "initial_guess = [0, 0]  \n",
    "\n",
    "result = minimize(objective, initial_guess, constraints=constraints)\n",
    "\n",
    "if result.success:\n",
    "    print(\"Optimal Solution:\", result.x)\n",
    "    print(\"Minimum Value:\", result.fun)\n",
    "else:\n",
    "    print(\"Optimization failed:\", result.message)"
   ]
  },
  {
   "cell_type": "markdown",
   "metadata": {},
   "source": [
    "# Part B\n",
    "Evaluate the line integral of the function $f(x, y) = x^2 + y^4$ along the circle $ x^2 + y^2 = 3 $ anticlockwise (scalar integral, not vector). You must use scipy for integration but you may use parameterization"
   ]
  },
  {
   "cell_type": "code",
   "execution_count": 57,
   "metadata": {},
   "outputs": [
    {
     "name": "stdout",
     "output_type": "stream",
     "text": [
      "Result: 30.630528372500482, Estimated Error: 3.1043229653526794e-09\n"
     ]
    }
   ],
   "source": [
    "from scipy.integrate import quad\n",
    "import math\n",
    "\n",
    "def f(theta):\n",
    "    return 3 * (math.cos(theta)**2) + 9 * (math.sin(theta)**4)\n",
    "\n",
    "theta_lower = 0\n",
    "theta_upper = 2 * math.pi\n",
    "\n",
    "result, error = quad(f, theta_lower, theta_upper)\n",
    "print(f\"Result: {result}, Estimated Error: {error}\")\n"
   ]
  },
  {
   "cell_type": "markdown",
   "metadata": {},
   "source": [
    "# **Numpy**"
   ]
  },
  {
   "cell_type": "markdown",
   "metadata": {},
   "source": [
    "### Read Lisan_Al_Gaib.pdf for problem description and complete the following functions"
   ]
  },
  {
   "cell_type": "code",
   "execution_count": 178,
   "metadata": {},
   "outputs": [],
   "source": [
    "import time # to time the execution\n",
    "import numpy as np\n",
    "import matplotlib.pyplot as plt"
   ]
  },
  {
   "cell_type": "code",
   "execution_count": 180,
   "metadata": {},
   "outputs": [],
   "source": [
    "### TODO 1\n",
    "### Load data from data_path\n",
    "### Check the input file spice_locations.txt to understand the Data Format\n",
    "### Return : np array of size Nx2\n",
    "def load_data(data_path):\n",
    "    data = np.loadtxt(data_path, delimiter=',')\n",
    "    \n",
    "    # Ensure the data has the expected shape: Nx2\n",
    "    if data.ndim != 2 or data.shape[1] != 2:\n",
    "        raise ValueError(\"Data format is incorrect. Expected Nx2 array.\")\n",
    "    \n",
    "    return data"
   ]
  },
  {
   "cell_type": "code",
   "execution_count": 182,
   "metadata": {},
   "outputs": [],
   "source": [
    "### TODO 2.1\n",
    "### If init_centers is None, initialize the centers by selecting K data points at random without replacement\n",
    "### Else, use the centers provided in init_centers\n",
    "### Return : np array of size Kx2\n",
    "def initialise_centers(data, K, init_centers=None):\n",
    "    if init_centers == None:\n",
    "        indices = np.random.choice(data.shape[0], K, replace=False)\n",
    "        init_centers = data[indices]\n",
    "        \n",
    "    return init_centers"
   ]
  },
  {
   "cell_type": "code",
   "execution_count": 202,
   "metadata": {},
   "outputs": [],
   "source": [
    "### TODO 2.2\n",
    "### Initialize the labels to all ones to size (N,) where N is the number of data points\n",
    "### Return: np array of size N\n",
    "def initialise_labels(data):\n",
    "    labels = np.ones(len(data))\n",
    "    return labels"
   ]
  },
  {
   "cell_type": "code",
   "execution_count": 204,
   "metadata": {},
   "outputs": [],
   "source": [
    "### TODO 3.1 : E step\n",
    "### For Each data point, find the distance to each center\n",
    "### Return : np array of size NxK\n",
    "def calculate_distances(data, centers):\n",
    "    distances = np.sqrt(((data[:, np.newaxis] - centers)**2).sum(axis=2))\n",
    "    return distances\n",
    "    "
   ]
  },
  {
   "cell_type": "code",
   "execution_count": 206,
   "metadata": {},
   "outputs": [],
   "source": [
    "### TODO 3.2 : E step\n",
    "### For Each data point, assign the label of the nearest center\n",
    "### Return : np array of size N\n",
    "def update_labels(distances):\n",
    "    labels = np.argmin(distances, axis=1)\n",
    "    return labels"
   ]
  },
  {
   "cell_type": "code",
   "execution_count": 208,
   "metadata": {},
   "outputs": [],
   "source": [
    "### TODO 4 : M step\n",
    "### Update the centers to the mean of the data points assigned to it\n",
    "### Return : np array of size Kx2\n",
    "def update_centers(data, labels, K):\n",
    "    center_sums = np.zeros((K, 2)) \n",
    "    counts = np.zeros(K)\n",
    "    np.add.at(center_sums, labels, data)\n",
    "    counts = np.bincount(labels, minlength=K)\n",
    "    new_centers = np.divide(center_sums, counts[:, np.newaxis], where=counts[:, np.newaxis] != 0)\n",
    "    return new_centers"
   ]
  },
  {
   "cell_type": "code",
   "execution_count": 210,
   "metadata": {},
   "outputs": [],
   "source": [
    "### TODO 6 : Check convergence\n",
    "### Check if the labels have changed from the previous iteration\n",
    "### Return : True / False\n",
    "def check_termination(labels1, labels2):\n",
    "    return not np.array_equal(labels1, labels2)"
   ]
  },
  {
   "cell_type": "code",
   "execution_count": 212,
   "metadata": {},
   "outputs": [],
   "source": [
    "### DON'T CHANGE ANYTHING IN THE FOLLOWING FUNCTION\n",
    "def kmeans(data_path:str, K:int, init_centers):\n",
    "    '''\n",
    "    Input :\n",
    "        data (type str): path to the file containing the data\n",
    "        K (type int): number of clusters\n",
    "        init_centers (type numpy.ndarray): initial centers. shape = (K, 2) or None\n",
    "    Output :\n",
    "        centers (type numpy.ndarray): final centers. shape = (K, 2)\n",
    "        labels (type numpy.ndarray): label of each data point. shape = (N,)\n",
    "        time (type float): time taken by the algorithm to converge in seconds\n",
    "    N is the number of data points each of shape (2,)\n",
    "    '''\n",
    "    data = load_data(data_path)    \n",
    "    centers = initialise_centers(data, K, init_centers)\n",
    "    labels = initialise_labels(data)\n",
    "\n",
    "    start_time = time.time() # Time stamp \n",
    "\n",
    "    while True:\n",
    "        distances = calculate_distances(data, centers)\n",
    "        labels_new = update_labels(distances)\n",
    "        centers = update_centers(data, labels_new, K)\n",
    "        if check_termination(labels, labels_new): break\n",
    "        else: labels = labels_new\n",
    " \n",
    "    end_time = time.time() # Time stamp after the algorithm ends\n",
    "    return centers, labels, end_time - start_time "
   ]
  },
  {
   "cell_type": "code",
   "execution_count": 214,
   "metadata": {},
   "outputs": [],
   "source": [
    "### TODO 7\n",
    "def visualise(data_path, labels, centers):\n",
    "    data = load_data(data_path)\n",
    "\n",
    "    # Scatter plot of the data points\n",
    "    plt.scatter(data[:, 0], data[:, 1], c=labels, s=50, cmap='viridis')\n",
    "    plt.scatter(centers[:, 0], centers[:, 1], c='black', s=200, alpha=0.5)\n",
    "\n",
    "    ### Set title as 'K-means clustering'\n",
    "    plt.title(\"K-means clustering\")\n",
    "\n",
    "    ### Set xlabel as 'Longitude'\n",
    "    plt.xlabel(\"Longitude\")\n",
    "    ### Set ylabel as 'Latitude'\n",
    "    plt.ylabel(\"Latitude\")\n",
    "    ### Save the plot as 'kmeans.png'\n",
    "    plt.savefig(\"kmeans.png\")\n",
    "    return plt"
   ]
  },
  {
   "cell_type": "code",
   "execution_count": 216,
   "metadata": {},
   "outputs": [
    {
     "name": "stdout",
     "output_type": "stream",
     "text": [
      "Time taken for the algorithm to converge: 0.0\n"
     ]
    },
    {
     "data": {
      "text/plain": [
       "<module 'matplotlib.pyplot' from 'C:\\\\Users\\\\ANANYA\\\\anaconda3\\\\Lib\\\\site-packages\\\\matplotlib\\\\pyplot.py'>"
      ]
     },
     "execution_count": 216,
     "metadata": {},
     "output_type": "execute_result"
    },
    {
     "data": {
      "image/png": "[encoded data removed]",
      "text/plain": [
       "<Figure size 640x480 with 1 Axes>"
      ]
     },
     "metadata": {},
     "output_type": "display_data"
    }
   ],
   "source": [
    "### After you have completed the above functions, run the following code to generate the plot\n",
    "data_path = 'spice_locations.txt'\n",
    "K, init_centers = 2, None\n",
    "centers, labels, time_taken = kmeans(data_path, K, init_centers)\n",
    "print('Time taken for the algorithm to converge:', time_taken)\n",
    "visualise(data_path, labels, centers)"
   ]
  }
 ],
 "metadata": {
  "kernelspec": {
   "display_name": "Python 3 (ipykernel)",
   "language": "python",
   "name": "python3"
  },
  "language_info": {
   "codemirror_mode": {
    "name": "ipython",
    "version": 3
   },
   "file_extension": ".py",
   "mimetype": "text/x-python",
   "name": "python",
   "nbconvert_exporter": "python",
   "pygments_lexer": "ipython3",
   "version": "3.11.5"
  }
 },
 "nbformat": 4,
 "nbformat_minor": 4
}
